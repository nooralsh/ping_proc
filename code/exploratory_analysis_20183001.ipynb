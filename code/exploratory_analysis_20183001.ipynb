{
 "cells": [
  {
   "cell_type": "code",
   "execution_count": 1,
   "metadata": {},
   "outputs": [],
   "source": [
    "import pickle as pkl\n",
    "import numpy as np\n",
    "import scipy as sp\n",
    "import scipy.stats\n",
    "import matplotlib.pyplot as plt\n",
    "import networkx as nx\n",
    "import os.path as op\n",
    "import os\n",
    "import csv\n",
    "import math\n",
    "\n",
    "%matplotlib inline"
   ]
  },
  {
   "cell_type": "markdown",
   "metadata": {},
   "source": [
    "### Load all demographic + connectome data\n",
    "\n",
    "(this is specific to train set files, so change to test when it comes to it)\n",
    "\n",
    "remember not all are formatted exactly the same: degdist + meanconn differ from the rest"
   ]
  },
  {
   "cell_type": "code",
   "execution_count": 2,
   "metadata": {},
   "outputs": [],
   "source": [
    "# dat connectome feature info\n",
    "locstat = pkl.load(open('/Users/nalsharif/code/nooralsh/ping_proc/data/train_locstat.pkl','rb'))\n",
    "nnonzero = pkl.load(open('/Users/nalsharif/code/nooralsh/ping_proc/data/train_nnonzero.pkl','rb'))\n",
    "bwcent = pkl.load(open('/Users/nalsharif/code/nooralsh/ping_proc/data/train_bwcent.pkl','rb'))\n",
    "edgewt = pkl.load(open('/Users/nalsharif/code/nooralsh/ping_proc/data/train_edgewt_new.pkl','rb'))\n",
    "eigseq = pkl.load(open('/Users/nalsharif/code/nooralsh/ping_proc/data/train_eigseq.pkl','rb'))\n",
    "cfclust = pkl.load(open('/Users/nalsharif/code/nooralsh/ping_proc/data/train_cfclust.pkl','rb'))\n",
    "degdist = pkl.load(open('/Users/nalsharif/code/nooralsh/ping_proc/data/train_degdist.pkl','rb'))\n",
    "meanconn = pkl.load(open('/Users/nalsharif/code/nooralsh/ping_proc/data/train_meanconn.pkl','rb'))\n",
    "\n",
    "# dat TRAIN demographic info\n",
    "age = pkl.load(open('/Users/nalsharif/code/nooralsh/ping_proc/data/train_ages.pkl', 'rb')) # dict of subjids: ages\n",
    "behav = pkl.load(open('/Users/nalsharif/code/nooralsh/ping_proc/data/train_behav.pkl', 'rb')) # dict of subjids: {demog/cog: data}\n",
    "subjids = pkl.load(open('/Users/nalsharif/code/nooralsh/ping_proc/data/train_subjids.pkl','rb')) # list of subjids"
   ]
  },
  {
   "cell_type": "markdown",
   "metadata": {},
   "source": [
    "### Bin ages"
   ]
  },
  {
   "cell_type": "code",
   "execution_count": 4,
   "metadata": {},
   "outputs": [
    {
     "data": {
      "text/plain": [
       "19"
      ]
     },
     "execution_count": 4,
     "metadata": {},
     "output_type": "execute_result"
    }
   ],
   "source": [
    "age_flr = {}\n",
    "for subj in age:\n",
    "    age_flr[subj] = np.floor(age[subj])\n",
    "\n",
    "age_ceil = {}\n",
    "for subj in age:\n",
    "    age_ceil[subj] = np.ceil(age[subj])\n",
    "\n",
    "binages = [ x for x in set(age_flr.values()) if x==x ]\n",
    "len(binages)"
   ]
  },
  {
   "cell_type": "code",
   "execution_count": null,
   "metadata": {},
   "outputs": [],
   "source": [
    "# make a numpy matrix of no. of age brackets x 70 (bc 70 features)\n",
    "# these are your various objects: degdist, age, behav, subjids\n",
    "\n",
    "avg_mat = np.zeros((len(nages),70))\n",
    "se_mn = np.zeros((len(nages),70))\n",
    "\n",
    "for idx1,a in enumerate(nages):\n",
    "    tlist = []\n",
    "    \n",
    "    for subj in age_flr:\n",
    "        if age_flr[subj] == a:\n",
    "            # get degree distribution for all subjects within an age range\n",
    "            tlist += [ degdist['total_deg'][subj] ]\n",
    "\n",
    "    nsubjs = len(tlist)\n",
    "    tmat = np.zeros((nsubjs,70))\n",
    "    \n",
    "    # make a temporary matrix for each age group\n",
    "    for idx2,titem in enumerate(tlist):\n",
    "        tmat[idx2,:] = np.array(titem)\n",
    "#     print(tmat.shape, tmat.dtype)\n",
    "    \n",
    "    #average those features across first axis & put into a row of avg_mat\n",
    "    avg_mat[idx1,:] = np.mean(tmat,axis = 0)\n",
    "    ttuple = mean_confidence_interval(avg_mat)\n",
    "    se_mn += [ttuple[1]]\n",
    "    avg_mat.shape\n",
    "\n",
    "print(se_mn)\n",
    "            \n",
    "# for c in enumerate():\n",
    "#     mymat[c,:] = my 1x70 avg"
   ]
  },
  {
   "cell_type": "code",
   "execution_count": null,
   "metadata": {},
   "outputs": [],
   "source": [
    "def mean_confidence_interval(data, confidence=0.95):\n",
    "    a = 1.0*np.array(data)\n",
    "    n = len(a)\n",
    "    m, se = np.mean(a), scipy.stats.sem(a)\n",
    "    h = se * sp.stats.t._ppf((1+confidence)/2., n-1)\n",
    "#    return m, m-h, m+h\n",
    "    return m, sepiyg = plt.get_cmap('PiYG')\n",
    "plt.figure(figsize=(15,6))\n",
    "for idx,avg in enumerate(avg_mat):\n",
    "#    print(idx,avg)\n",
    "    #col = piyg(int( (age[subj] - 3)/19 *255))\n",
    "    col = piyg(int((nages[idx]-3)/19 * 255))\n",
    "#    plt.plot(avg_mat[idx], c=col)\n",
    "#    plt.errorbar(np.arange(70)+idx*0.03, avg_mat[idx], se_mn[idx], c=col)\n",
    "    plt.errorbar(np.arange(70), avg_mat[idx], se_mn[idx], c=col)\n",
    "\n",
    "\n",
    "plt.title('noor does a science')\n",
    "plt.ylabel('vertex deg')\n",
    "plt.xlabel('node')\n",
    "plt.ylim([0, 70])"
   ]
  },
  {
   "cell_type": "code",
   "execution_count": null,
   "metadata": {},
   "outputs": [],
   "source": [
    "piyg = plt.get_cmap('PiYG')\n",
    "piyg.set_under(color=(0,0,0))\n",
    "for deg in degdist:\n",
    "    plt.figure(figsize=(10,4))\n",
    "    for subj in degdist[deg].keys():\n",
    "        try:\n",
    "#         print(age[subj])\n",
    "            col = piyg(int( (age[subj] - 3)/19 *255)) # assign colour based on age\n",
    "            # based on subj, look up feature, apply some color/shape/size/opacity based on that feature\n",
    "            # colour legend, titles; find threshold of where colours diverge; binarize age groups\n",
    "            plt.plot(degdist[deg][subj], c=col) # cmap=\"winter\", alpha=0.05)\n",
    "            plt.hold(True)\n",
    "        except KeyError as e:\n",
    "            pass\n",
    "#             print(\"skipping: {}\".format(subj))\n",
    "        except ValueError as e:\n",
    "            pass\n",
    "#             print(e)\n",
    "#             print(subj)\n",
    "#             print(age[subj])\n",
    "    plt.show()"
   ]
  }
 ],
 "metadata": {
  "kernelspec": {
   "display_name": "Python 2",
   "language": "python",
   "name": "python2"
  },
  "language_info": {
   "codemirror_mode": {
    "name": "ipython",
    "version": 2
   },
   "file_extension": ".py",
   "mimetype": "text/x-python",
   "name": "python",
   "nbconvert_exporter": "python",
   "pygments_lexer": "ipython2",
   "version": "2.7.14"
  }
 },
 "nbformat": 4,
 "nbformat_minor": 2
}

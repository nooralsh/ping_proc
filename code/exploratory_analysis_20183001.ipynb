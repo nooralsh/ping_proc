{
 "cells": [
  {
   "cell_type": "code",
   "execution_count": 1,
   "metadata": {},
   "outputs": [],
   "source": [
    "import pickle as pkl\n",
    "import numpy as np\n",
    "import scipy as sp\n",
    "import scipy.stats\n",
    "import matplotlib.pyplot as plt\n",
    "import networkx as nx\n",
    "import os.path as op\n",
    "import os\n",
    "import csv\n",
    "import math\n",
    "\n",
    "%matplotlib inline"
   ]
  },
  {
   "cell_type": "code",
   "execution_count": null,
   "metadata": {},
   "outputs": [],
   "source": [
    "#also add in opening up all ndmg pickles\n",
    "\n",
    "age = pkl.load(open('/Users/nalsharif/science/PING/PING_bids/ages.pkl', 'rb'))\n",
    "behav = pkl.load(open('/Users/nalsharif/science/PING/PING_bids/behav.pkl', 'rb'))\n",
    "subjids = pkl.load(open('/Users/nalsharif/science/PING/PING_bids/subjids.pkl', 'rb'))"
   ]
  }
 ],
 "metadata": {
  "kernelspec": {
   "display_name": "Python 2",
   "language": "python",
   "name": "python2"
  },
  "language_info": {
   "codemirror_mode": {
    "name": "ipython",
    "version": 2
   },
   "file_extension": ".py",
   "mimetype": "text/x-python",
   "name": "python",
   "nbconvert_exporter": "python",
   "pygments_lexer": "ipython2",
   "version": "2.7.14"
  }
 },
 "nbformat": 4,
 "nbformat_minor": 2
}

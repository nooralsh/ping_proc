{
 "cells": [
  {
   "cell_type": "code",
   "execution_count": 5,
   "metadata": {},
   "outputs": [],
   "source": [
    "import nibabel as nib\n",
    "import os.path as op\n",
    "import os\n",
    "from glob import glob"
   ]
  },
  {
   "cell_type": "markdown",
   "metadata": {},
   "source": [
    "FLIPPING IMAGES:\n",
    "-- img = nibabel load image\n",
    "-- data = img.get_data()\n",
    "-- img[:,:,:,1::2] = img[:,::-1,:,1::2] (flip in y dim using 2 stepsize)\n",
    "-- save with nibabel (affine)\n",
    "\n",
    "\n",
    "nib.Nifti1Image(data, img.affine).to_filename(\"test.nii.gz\")\n",
    "img = nib.load(\"t1_final.nii.gz\")"
   ]
  },
  {
   "cell_type": "code",
   "execution_count": 6,
   "metadata": {},
   "outputs": [],
   "source": [
    "os.chdir('/home/users/nsharif/ace_mount/ace_home/PING/niak/flip_func')"
   ]
  },
  {
   "cell_type": "code",
   "execution_count": 11,
   "metadata": {
    "scrolled": true
   },
   "outputs": [
    {
     "data": {
      "text/plain": [
       "['P1150_v1_fmri_rest_corrected_PA.nii.gz',\n",
       " 'topup_P1100_v1_fmri_movpar.txt',\n",
       " 'P0340_v1_fmri_rest_flipped_AP.nii.gz',\n",
       " 'P0340_v1_fmri_rest.nii.gz',\n",
       " 'P0340_v1_fmri_rest_corrected_PA.nii.gz',\n",
       " 'P1100_v1_fmri_calib.nii.gz',\n",
       " 'P0036_v1_fmri_calib.nii.gz',\n",
       " 'acqparam.txt',\n",
       " 'P0340_v1_fmri_calib_flipped.nii.gz',\n",
       " 'P1100_v1_fmri_rest_flipped.nii.gz',\n",
       " 'topup_P1150_v1_fmri_movpar.txt',\n",
       " 'P1100_v1_fmri_rest_flipped_PA.nii.gz',\n",
       " 'P0340_v1_fmri_calib.nii.gz',\n",
       " 'P0340_v1_fmri_rest_corrected_AP.nii.gz',\n",
       " '.ipynb_checkpoints',\n",
       " 'P1150_v1_fmri_field.nii.gz',\n",
       " 'P0340_v1_fmri_calib_corrected.nii.gz',\n",
       " 'applytopup.sh',\n",
       " 'P0340_v1_fmri_field.nii.gz',\n",
       " 'P1150_v1_fmri_rest_flipped_AP.nii.gz',\n",
       " 'topup_P0036_v1_fmri_fieldcoef.nii.gz',\n",
       " 'topup_P0340_v1_fmri_fieldcoef.nii.gz',\n",
       " 'extract_opposites.sh',\n",
       " 'P0036_v1_fmri_rest_corrected_AP.nii.gz',\n",
       " 'P1100_v1_fmri_rest.nii.gz',\n",
       " 'P0036_v1_fmri_rest.nii.gz',\n",
       " 'P1100_v1_fmri_calib_corrected.nii.gz',\n",
       " 'P0036_v1_fmri_calib_corrected.nii.gz',\n",
       " 'P1150_v1_fmri_calib_flipped.topup_log',\n",
       " 'P1150_v1_fmri_rest_flipped.nii.gz',\n",
       " 'P1100_v1_fmri_calib_flipped.topup_log',\n",
       " 'P0340_v1_fmri_calib_flipped.topup_log',\n",
       " 'P0340_v1_fmri_rest_flipped_PA.nii.gz',\n",
       " 'P1150_v1_fmri_calib.nii.gz',\n",
       " 'P0036_v1_fmri_rest_flipped_PA.nii.gz',\n",
       " 'P0036_v1_fmri_calib_flipped.topup_log',\n",
       " 'P1150_v1_fmri_rest_flipped_PA.nii.gz',\n",
       " 'topup_P1100_v1_fmri_fieldcoef.nii.gz',\n",
       " 'P1100_v1_fmri_rest_corrected_AP.nii.gz',\n",
       " 'P0036_v1_fmri_field.nii.gz',\n",
       " 'P1150_v1_fmri_rest_corrected_AP.nii.gz',\n",
       " 'P1150_v1_fmri_calib_flipped.nii.gz',\n",
       " 'flip_fmri_volumes_for_topup.ipynb',\n",
       " 'P0036_v1_fmri_rest_flipped.nii.gz',\n",
       " 'P1100_v1_fmri_rest_flipped_AP.nii.gz',\n",
       " 'P0036_v1_fmri_rest_flipped_AP.nii.gz',\n",
       " 'P0036_v1_fmri_calib_flipped.nii.gz',\n",
       " 'P0340_v1_fmri_rest_flipped.nii.gz',\n",
       " 'topup_P0340_v1_fmri_movpar.txt',\n",
       " 'topup_P1150_v1_fmri_fieldcoef.nii.gz',\n",
       " 'topup_P0036_v1_fmri_movpar.txt',\n",
       " 'P1100_v1_fmri_rest_corrected_PA.nii.gz',\n",
       " 'P1100_v1_fmri_field.nii.gz',\n",
       " 'P0036_v1_fmri_rest_corrected_PA.nii.gz',\n",
       " 'P1100_v1_fmri_calib_flipped.nii.gz',\n",
       " 'P1150_v1_fmri_rest.nii.gz',\n",
       " 'P1150_v1_fmri_calib_corrected.nii.gz']"
      ]
     },
     "execution_count": 11,
     "metadata": {},
     "output_type": "execute_result"
    }
   ],
   "source": [
    "datadir = \"/home/users/nsharif/ace_mount/ace_home/PING/niak/flip_func/\"\n",
    "images = os.listdir(datadir)\n",
    "images"
   ]
  },
  {
   "cell_type": "code",
   "execution_count": 18,
   "metadata": {},
   "outputs": [
    {
     "data": {
      "text/plain": [
       "['/home/users/nsharif/ace_mount/ace_home/PING/niak/flip_func/P1150_v1_fmri_rest_corrected_PA.nii.gz',\n",
       " '/home/users/nsharif/ace_mount/ace_home/PING/niak/flip_func/P0340_v1_fmri_rest_corrected_PA.nii.gz',\n",
       " '/home/users/nsharif/ace_mount/ace_home/PING/niak/flip_func/P0340_v1_fmri_rest_corrected_AP.nii.gz',\n",
       " '/home/users/nsharif/ace_mount/ace_home/PING/niak/flip_func/P0340_v1_fmri_calib_corrected.nii.gz',\n",
       " '/home/users/nsharif/ace_mount/ace_home/PING/niak/flip_func/P0036_v1_fmri_rest_corrected_AP.nii.gz',\n",
       " '/home/users/nsharif/ace_mount/ace_home/PING/niak/flip_func/P1100_v1_fmri_calib_corrected.nii.gz',\n",
       " '/home/users/nsharif/ace_mount/ace_home/PING/niak/flip_func/P0036_v1_fmri_calib_corrected.nii.gz',\n",
       " '/home/users/nsharif/ace_mount/ace_home/PING/niak/flip_func/P1100_v1_fmri_rest_corrected_AP.nii.gz',\n",
       " '/home/users/nsharif/ace_mount/ace_home/PING/niak/flip_func/P1150_v1_fmri_rest_corrected_AP.nii.gz',\n",
       " '/home/users/nsharif/ace_mount/ace_home/PING/niak/flip_func/P1100_v1_fmri_rest_corrected_PA.nii.gz',\n",
       " '/home/users/nsharif/ace_mount/ace_home/PING/niak/flip_func/P0036_v1_fmri_rest_corrected_PA.nii.gz',\n",
       " '/home/users/nsharif/ace_mount/ace_home/PING/niak/flip_func/P1150_v1_fmri_calib_corrected.nii.gz']"
      ]
     },
     "execution_count": 18,
     "metadata": {},
     "output_type": "execute_result"
    }
   ],
   "source": [
    "images = glob(\"/home/users/nsharif/ace_mount/ace_home/PING/niak/flip_func/P*_corrected*.nii.gz\")\n",
    "images"
   ]
  },
  {
   "cell_type": "markdown",
   "metadata": {},
   "source": [
    "### Function to flip volumes"
   ]
  },
  {
   "cell_type": "code",
   "execution_count": 1,
   "metadata": {},
   "outputs": [],
   "source": [
    "def flip_opp_img_vols(image_in):\n",
    "    base = image_in.split(\".\")[0]\n",
    "    fmri_vol = nib.load(image_in)\n",
    "    fmri_vol_data = fmri_vol.get_data()\n",
    "    fmri_vol_data[:,:,:,1::2] = fmri_vol_data[:,::-1,:,1::2]\n",
    "    return nib.Nifti1Image(fmri_vol_data, fmri_vol.affine).to_filename('{}_flipped.nii.gz'.format(base))\n",
    "    "
   ]
  },
  {
   "cell_type": "code",
   "execution_count": 14,
   "metadata": {},
   "outputs": [],
   "source": [
    "def flip_img_vols(image_in):\n",
    "    base = image_in.split(\".\")[0]\n",
    "    fmri_vol = nib.load(image_in)\n",
    "    fmri_vol_data = fmri_vol.get_data()\n",
    "    fmri_vol_data[:,:,:,:] = fmri_vol_data[:,::-1,:,:]\n",
    "    return nib.Nifti1Image(fmri_vol_data, fmri_vol.affine).to_filename('{}_reorient.nii.gz'.format(base))\n",
    "    "
   ]
  },
  {
   "cell_type": "code",
   "execution_count": 15,
   "metadata": {},
   "outputs": [
    {
     "name": "stdout",
     "output_type": "stream",
     "text": [
      "P0103_v1_fmri_calib\n"
     ]
    }
   ],
   "source": [
    "img = 'P0103_v1_fmri_calib.nii.gz'\n",
    "print(img.split(\".\")[0])"
   ]
  },
  {
   "cell_type": "code",
   "execution_count": 19,
   "metadata": {},
   "outputs": [
    {
     "data": {
      "text/plain": [
       "['/home/users/nsharif/ace_mount/ace_home/PING/niak/flip_func/P1150_v1_fmri_rest_corrected_PA.nii.gz',\n",
       " '/home/users/nsharif/ace_mount/ace_home/PING/niak/flip_func/P0340_v1_fmri_rest_corrected_PA.nii.gz',\n",
       " '/home/users/nsharif/ace_mount/ace_home/PING/niak/flip_func/P0340_v1_fmri_rest_corrected_AP.nii.gz',\n",
       " '/home/users/nsharif/ace_mount/ace_home/PING/niak/flip_func/P0340_v1_fmri_calib_corrected.nii.gz',\n",
       " '/home/users/nsharif/ace_mount/ace_home/PING/niak/flip_func/P0036_v1_fmri_rest_corrected_AP.nii.gz',\n",
       " '/home/users/nsharif/ace_mount/ace_home/PING/niak/flip_func/P1100_v1_fmri_calib_corrected.nii.gz',\n",
       " '/home/users/nsharif/ace_mount/ace_home/PING/niak/flip_func/P0036_v1_fmri_calib_corrected.nii.gz',\n",
       " '/home/users/nsharif/ace_mount/ace_home/PING/niak/flip_func/P1100_v1_fmri_rest_corrected_AP.nii.gz',\n",
       " '/home/users/nsharif/ace_mount/ace_home/PING/niak/flip_func/P1150_v1_fmri_rest_corrected_AP.nii.gz',\n",
       " '/home/users/nsharif/ace_mount/ace_home/PING/niak/flip_func/P1100_v1_fmri_rest_corrected_PA.nii.gz',\n",
       " '/home/users/nsharif/ace_mount/ace_home/PING/niak/flip_func/P0036_v1_fmri_rest_corrected_PA.nii.gz',\n",
       " '/home/users/nsharif/ace_mount/ace_home/PING/niak/flip_func/P1150_v1_fmri_calib_corrected.nii.gz']"
      ]
     },
     "execution_count": 19,
     "metadata": {},
     "output_type": "execute_result"
    }
   ],
   "source": [
    "images"
   ]
  },
  {
   "cell_type": "code",
   "execution_count": 7,
   "metadata": {},
   "outputs": [],
   "source": [
    "for i in images:\n",
    "    try:\n",
    "        flip_opp_img_vols(i)\n",
    "    except:\n",
    "        continue"
   ]
  },
  {
   "cell_type": "code",
   "execution_count": 20,
   "metadata": {},
   "outputs": [],
   "source": [
    "for i in images:\n",
    "    try:\n",
    "        flip_img_vols(i)\n",
    "    except:\n",
    "        continue"
   ]
  },
  {
   "cell_type": "markdown",
   "metadata": {},
   "source": [
    "to do:\n",
    "- [done] create that other text file --  not needed for topup, just eddy_correct\n",
    "- [done] test topup on one fmap\n",
    "- [done] test applytopup one one whole volume\n",
    "- figure out how to merge volumes"
   ]
  },
  {
   "cell_type": "markdown",
   "metadata": {},
   "source": [
    "## Top up correction + application\n",
    "\n",
    "#### Topup correction (compute from fmaps)\n",
    "topup --imain=b0s.nii.gz --datain=topup.txt --config=b02b0.cnf --out=topup_results --fout=field.nii.gz --iout=b0s_corrected.nii.gz --subsamp=1\n",
    "\n",
    "#### Apply to all fmri images\n",
    "applytopup --imain=dwi_dir_nl.nii.gz --datain=topup.txt --inindex=2  --topup=topup_results --out=dwi_dir_corrected.nii.gz --method=jac\n",
    "\n",
    "fslmerge -t dwi_corrected.nii.gz  b0s_corrected.nii.gz dwi_dir_corrected.nii.gz\n"
   ]
  },
  {
   "cell_type": "code",
   "execution_count": null,
   "metadata": {},
   "outputs": [],
   "source": []
  }
 ],
 "metadata": {
  "kernelspec": {
   "display_name": "Python 3",
   "language": "python",
   "name": "python3"
  },
  "language_info": {
   "codemirror_mode": {
    "name": "ipython",
    "version": 3
   },
   "file_extension": ".py",
   "mimetype": "text/x-python",
   "name": "python",
   "nbconvert_exporter": "python",
   "pygments_lexer": "ipython3",
   "version": "3.5.2"
  }
 },
 "nbformat": 4,
 "nbformat_minor": 2
}

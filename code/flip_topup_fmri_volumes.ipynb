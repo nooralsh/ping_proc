{
 "cells": [
  {
   "cell_type": "code",
   "execution_count": 22,
   "metadata": {},
   "outputs": [],
   "source": [
    "import nibabel as nib\n",
    "import os.path as op\n",
    "import os\n",
    "from glob import glob"
   ]
  },
  {
   "cell_type": "markdown",
   "metadata": {},
   "source": [
    "FLIPPING IMAGES:\n",
    "-- img = nibabel load image\n",
    "-- data = img.get_data()\n",
    "-- img[:,:,:,1::2] = img[:,::-1,:,1::2] (flip in y dim using 2 stepsize)\n",
    "-- save with nibabel (affine)\n",
    "\n",
    "\n",
    "nib.Nifti1Image(data, img.affine).to_filename(\"test.nii.gz\")\n",
    "img = nib.load(\"t1_final.nii.gz\")"
   ]
  },
  {
   "cell_type": "code",
   "execution_count": 84,
   "metadata": {},
   "outputs": [],
   "source": [
    "os.chdir('/Users/nalsharif/science/PING/PING_niak/test_subjs/data/flip/test_topup')"
   ]
  },
  {
   "cell_type": "code",
   "execution_count": 91,
   "metadata": {},
   "outputs": [],
   "source": [
    "datadir = \"/Users/nalsharif/science/PING/PING_niak/test_subjs/data/flip/test_topup\"\n",
    "images = os.listdir(datadir)"
   ]
  },
  {
   "cell_type": "markdown",
   "metadata": {},
   "source": [
    "### Function to flip volumes"
   ]
  },
  {
   "cell_type": "code",
   "execution_count": 107,
   "metadata": {},
   "outputs": [],
   "source": [
    "def flip_img_vols(image_in):\n",
    "    subj = image_in.split(\"_\")[0]\n",
    "    scan = image_in.split(\"_\")[1]\n",
    "    fmri_vol = nib.load(image_in)\n",
    "    fmri_vol_data = fmri_vol.get_data()\n",
    "    fmri_vol_data[:,:,:,1::2] = fmri_vol_data[:,::-1,:,1::2]\n",
    "    return nib.Nifti1Image(fmri_vol_data, fmri_vol.affine).to_filename('{}_{}_bold_flipped.nii.gz'.format(subj,scan))\n",
    "    "
   ]
  },
  {
   "cell_type": "code",
   "execution_count": 97,
   "metadata": {},
   "outputs": [
    {
     "name": "stdout",
     "output_type": "stream",
     "text": [
      "sub-P0485\n",
      "task-rest\n"
     ]
    }
   ],
   "source": [
    "img = 'sub-P0485_task-rest_bold.nii.gz'\n",
    "print(img.split(\"_\")[0])\n",
    "print(img.split(\"_\")[1])"
   ]
  },
  {
   "cell_type": "code",
   "execution_count": 105,
   "metadata": {
    "scrolled": true
   },
   "outputs": [
    {
     "data": {
      "text/plain": [
       "['sub-P0485_task-rest_bold.nii.gz',\n",
       " 'sub-P0156_fmri-calib_bold.nii.gz',\n",
       " 'sub-P0156_task-rest_bold.nii.gz',\n",
       " 'sub-P0128_task-rest_bold.nii.gz',\n",
       " 'sub-P0519_fmri-calib_bold.nii.gz',\n",
       " 'sub-P0128_fmri-calib_bold.nii.gz',\n",
       " 'sub-P0179_task-rest_bold.nii.gz',\n",
       " 'sub-P0299_fmri-calib_bold.nii.gz',\n",
       " 'sub-P0485_fmri-calib_bold.nii.gz',\n",
       " 'sub-P0878_fmri-calib_bold.nii.gz',\n",
       " 'sub-P0179_fmri-calib_bold.nii.gz',\n",
       " 'sub-P0366_fmri-calib_bold.nii.gz',\n",
       " 'sub-P0519_task-rest_bold.nii.gz',\n",
       " 'sub-P0366_task-rest_bold.nii.gz',\n",
       " 'sub-P0299_task-rest_bold.nii.gz',\n",
       " 'sub-P0316_task-rest_bold.nii.gz',\n",
       " 'sub-P0316_fmri-calib_bold.nii.gz',\n",
       " 'sub-P0878_task-rest_bold.nii.gz']"
      ]
     },
     "execution_count": 105,
     "metadata": {},
     "output_type": "execute_result"
    }
   ],
   "source": [
    "images"
   ]
  },
  {
   "cell_type": "code",
   "execution_count": 106,
   "metadata": {
    "collapsed": true
   },
   "outputs": [
    {
     "name": "stdout",
     "output_type": "stream",
     "text": [
      "sub-P0485\n",
      "sub-P0156\n",
      "sub-P0156\n",
      "sub-P0128\n",
      "sub-P0519\n",
      "sub-P0128\n",
      "sub-P0179\n",
      "sub-P0299\n",
      "sub-P0485\n",
      "sub-P0878\n",
      "sub-P0179\n",
      "sub-P0366\n",
      "sub-P0519\n",
      "sub-P0366\n",
      "sub-P0299\n",
      "sub-P0316\n",
      "sub-P0316\n",
      "sub-P0878\n"
     ]
    }
   ],
   "source": [
    "for i in images:\n",
    "    flip_img_vols(i)"
   ]
  },
  {
   "cell_type": "markdown",
   "metadata": {},
   "source": [
    "to do:\n",
    "- create that other text file\n",
    "- test topup on one fmap\n",
    "- test applytopup one one whole volume"
   ]
  },
  {
   "cell_type": "markdown",
   "metadata": {},
   "source": [
    "### Top up correction + application"
   ]
  },
  {
   "cell_type": "code",
   "execution_count": null,
   "metadata": {},
   "outputs": [],
   "source": [
    "# Topup correction (compute from fmaps)\n",
    "topup --imain=b0s.nii.gz --datain=topup.txt --config=b02b0.cnf --out=topup_results --fout=field.nii.gz --iout=b0s_corrected.nii.gz --subsamp=1\n",
    "\n",
    "# Apply to all fmri images\n",
    "applytopup --imain=dwi_dir_nl.nii.gz --datain=topup.txt --inindex=2  --topup=topup_results --out=dwi_dir_corrected.nii.gz --method=jac\n",
    "fslmerge -t dwi_corrected.nii.gz  b0s_corrected.nii.gz dwi_dir_corrected.nii.gz\n"
   ]
  }
 ],
 "metadata": {
  "kernelspec": {
   "display_name": "Python 2",
   "language": "python",
   "name": "python2"
  },
  "language_info": {
   "codemirror_mode": {
    "name": "ipython",
    "version": 2
   },
   "file_extension": ".py",
   "mimetype": "text/x-python",
   "name": "python",
   "nbconvert_exporter": "python",
   "pygments_lexer": "ipython2",
   "version": "2.7.14"
  }
 },
 "nbformat": 4,
 "nbformat_minor": 2
}

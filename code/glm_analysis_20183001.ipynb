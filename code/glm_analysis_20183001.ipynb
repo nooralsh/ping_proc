{
 "cells": [
  {
   "cell_type": "code",
   "execution_count": 1,
   "metadata": {},
   "outputs": [],
   "source": [
    "import pickle as pkl\n",
    "import numpy as np\n",
    "import scipy as sp\n",
    "import scipy.stats\n",
    "import matplotlib.pyplot as plt\n",
    "import networkx as nx\n",
    "import os.path as op\n",
    "import os\n",
    "import csv\n",
    "import math\n",
    "\n",
    "%matplotlib inline"
   ]
  },
  {
   "cell_type": "markdown",
   "metadata": {},
   "source": [
    "### Load all demographic + connectome data\n",
    "\n",
    "(this is specific to train set files, so change to test when it comes to it)\n",
    "\n",
    "remember not all are formatted exactly the same: degdist + meanconn differ from the rest"
   ]
  },
  {
   "cell_type": "code",
   "execution_count": null,
   "metadata": {},
   "outputs": [],
   "source": [
    "# dat connectome feature info\n",
    "locstat = pkl.load(open('/Users/nalsharif/code/nooralsh/ping_proc/data/train_locstat.pkl','rb'))\n",
    "nnonzero = pkl.load(open('/Users/nalsharif/code/nooralsh/ping_proc/data/train_nnonzero.pkl','rb'))\n",
    "bwcent = pkl.load(open('/Users/nalsharif/code/nooralsh/ping_proc/data/train_bwcent.pkl','rb'))\n",
    "edgewt = pkl.load(open('/Users/nalsharif/code/nooralsh/ping_proc/data/train_edgewt_new.pkl','rb'))\n",
    "eigseq = pkl.load(open('/Users/nalsharif/code/nooralsh/ping_proc/data/train_eigseq.pkl','rb'))\n",
    "cfclust = pkl.load(open('/Users/nalsharif/code/nooralsh/ping_proc/data/train_cfclust.pkl','rb'))\n",
    "degdist = pkl.load(open('/Users/nalsharif/code/nooralsh/ping_proc/data/train_degdist.pkl','rb'))\n",
    "meanconn = pkl.load(open('/Users/nalsharif/code/nooralsh/ping_proc/data/train_meanconn.pkl','rb'))\n",
    "\n",
    "# dat TRAIN demographic info\n",
    "age = pkl.load(open('/Users/nalsharif/code/nooralsh/ping_proc/data/train_ages.pkl', 'rb')) # dict of subjids: ages\n",
    "behav = pkl.load(open('/Users/nalsharif/code/nooralsh/ping_proc/data/train_behav.pkl', 'rb')) # dict of subjids: {demog/cog: data}\n",
    "subjids = pkl.load(open('/Users/nalsharif/code/nooralsh/ping_proc/data/train_subjids.pkl','rb')) # list of subjidsv"
   ]
  },
  {
   "cell_type": "code",
   "execution_count": null,
   "metadata": {},
   "outputs": [],
   "source": []
  }
 ],
 "metadata": {
  "kernelspec": {
   "display_name": "Python 2",
   "language": "python",
   "name": "python2"
  },
  "language_info": {
   "codemirror_mode": {
    "name": "ipython",
    "version": 2
   },
   "file_extension": ".py",
   "mimetype": "text/x-python",
   "name": "python",
   "nbconvert_exporter": "python",
   "pygments_lexer": "ipython2",
   "version": "2.7.14"
  }
 },
 "nbformat": 4,
 "nbformat_minor": 1
}
